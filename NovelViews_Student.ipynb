{
 "cells": [
  {
   "cell_type": "code",
   "execution_count": 16,
   "id": "2dc73c81",
   "metadata": {},
   "outputs": [
    {
     "data": {
      "text/plain": [
       "'\\nload all neccesary functions!\\n'"
      ]
     },
     "execution_count": 16,
     "metadata": {},
     "output_type": "execute_result"
    }
   ],
   "source": [
    "import os, sys\n",
    "import numpy as np\n",
    "import imageio\n",
    "import json\n",
    "import random\n",
    "import time\n",
    "import torch\n",
    "import torch.nn as nn\n",
    "import torch.nn.functional as F\n",
    "from einops import rearrange\n",
    "from tqdm import tqdm, trange\n",
    "\n",
    "import matplotlib.pyplot as plt\n",
    "\n",
    "from run_nerf_helpers import *\n",
    "\n",
    "from load_blender import load_blender_data\n",
    "from run_simple_nerf_student import render_rays_discrete, create_pointcloud\n",
    "\n",
    "'''\n",
    "load all neccesary functions!\n",
    "'''"
   ]
  },
  {
   "cell_type": "code",
   "execution_count": 9,
   "id": "11cea9ce",
   "metadata": {},
   "outputs": [
    {
     "name": "stdout",
     "output_type": "stream",
     "text": [
      "Loaded blender (138, 40, 40, 4) torch.Size([40, 4, 4]) [40, 40, 55.55555155968841]\n"
     ]
    }
   ],
   "source": [
    "K = None\n",
    "device = 'cpu'\n",
    "\n",
    "# \n",
    "N_samples = 200\n",
    "pts_res = 200\n",
    "pts_max = 3.725\n",
    "\n",
    "path_dataset =  'data/nerf_synthetic/lego'\n",
    "\n",
    "images, poses, render_poses, hwf, i_split = load_blender_data(path_dataset, True, 8)\n",
    "print('Loaded blender', images.shape, render_poses.shape, hwf)\n",
    "\n",
    "i_train, _, _ = i_split\n",
    "\n",
    "near = 2.\n",
    "far = 6.\n",
    "# obtain images with white background\n",
    "images = images[...,:3]*images[...,-1:] + (1.-images[...,-1:])\n",
    "\n",
    "\n",
    "# Cast intrinsics to right types\n",
    "H, W, focal = hwf\n",
    "H, W = int(H), int(W)\n",
    "hwf = [H, W, focal]\n",
    "\n",
    "if K is None:\n",
    "    K = np.array([\n",
    "        [focal, 0, 0.5*W],\n",
    "        [0, focal, 0.5*H],\n",
    "        [0, 0, 1]\n",
    "    ])\n",
    "\n",
    "    \n",
    "'''\n",
    "\n",
    "You should load your rgb, sigma\n",
    "'''\n",
    "\n",
    "\n",
    "\n",
    "main_folder_name = 'resources'\n",
    "path_pt_cloud = 'logs/Train_lego/'\n",
    "\n",
    "# create point cloud\n",
    "pt_cloud = torch.load(path_pt_cloud+'/pts_clous.tns').cpu()\n",
    "\n",
    "sigma_val = torch.load(path_pt_cloud+'/01000/sigma_1000.tns').cpu()\n",
    "rgb_val =  torch.load(path_pt_cloud+'/01000/rgb_1000.tns').cpu()\n",
    "\n",
    "# transerer everything on device\n",
    "sigma_val = sigma_val.to(device)\n",
    "rgb_val = rgb_val.to(device)\n",
    "pt_cloud = pt_cloud.to(device)\n",
    "\n",
    "\n",
    "# change the path where you want to save!!!!\n",
    "save_folder_test_img = os.path.join('logs', main_folder_name, 'novel_views')\n",
    "save_folder_train_img = os.path.join('logs', main_folder_name, 'gt_views')\n",
    "os.makedirs(save_folder_test_img , exist_ok=True)\n",
    "os.makedirs(save_folder_train_img , exist_ok=True)"
   ]
  },
  {
   "cell_type": "code",
   "execution_count": 10,
   "id": "454e9393",
   "metadata": {},
   "outputs": [
    {
     "data": {
      "image/png": "[encoded data removed]",
      "text/plain": [
       "<Figure size 640x480 with 1 Axes>"
      ]
     },
     "metadata": {},
     "output_type": "display_data"
    }
   ],
   "source": [
    "plt.imshow(images[25])\n",
    "plt.show()"
   ]
  },
  {
   "cell_type": "code",
   "execution_count": 11,
   "id": "bbd70979",
   "metadata": {},
   "outputs": [
    {
     "name": "stderr",
     "output_type": "stream",
     "text": [
      "100%|██████████| 38/38 [00:01<00:00, 19.76it/s]\n"
     ]
    }
   ],
   "source": [
    "novel_imgs_display = []\n",
    "for j in trange(100,poses.shape[0], 1):\n",
    "\n",
    "    pose = poses[j, :3,:4]\n",
    "    rays_o, rays_d = get_rays(H, W, K, torch.Tensor(pose))  # (H, W, 3), (H, W, 3)\n",
    "\n",
    "    coords = torch.stack(torch.meshgrid(torch.linspace(0, H-1, H), torch.linspace(0, W-1, W)), -1)  # (H, W, 2)\n",
    "\n",
    "    coords = torch.reshape(coords, [-1,2])  # (H * W, 2)\n",
    "\n",
    "    chunk = 200\n",
    "    # N_rand = chunk\n",
    "    rgb_image = []\n",
    "    for k in range(int(coords.size(0)/chunk)):\n",
    "        select_coords = coords[k*chunk: (k+1)*chunk].long()  # (N_rand, 2)\n",
    "        rays_o_batch = rays_o[select_coords[:, 0], select_coords[:, 1]]  # (N_rand, 3)\n",
    "        rays_d_batch = rays_d[select_coords[:, 0], select_coords[:, 1]]  # (N_rand, 3)\n",
    "\n",
    "\n",
    "        t_vals = torch.linspace(0., 1., steps=N_samples)\n",
    "        z_vals = near * (1.-t_vals) + far * (t_vals)\n",
    "\n",
    "\n",
    "        with torch.no_grad():\n",
    "            # apply the same changes as above!!!\n",
    "            ret = render_rays_discrete(ray_steps= z_vals,\n",
    "                                       rays_o = rays_o_batch,\n",
    "                                       rays_d = rays_d_batch,\n",
    "                                       N_samples = N_samples,\n",
    "                                       pt_cloud = pt_cloud, \n",
    "                                       rgb_val =rgb_val, \n",
    "                                       sigma_val = sigma_val,) \n",
    "\n",
    "        rgb_map = ret\n",
    "        rgb_image.append(rgb_map)\n",
    "\n",
    "\n",
    "        \n",
    "    rgb_image = torch.cat(rgb_image)\n",
    "    \n",
    "\n",
    "    rgb_image = rearrange(rgb_image, '(w h) d -> w h d', w = W)\n",
    "\n",
    "\n",
    "    rgbimage8 = to8b(rgb_image.cpu().numpy())\n",
    "    filename = os.path.join(save_folder_test_img, '{:03d}.png'.format(j))\n",
    "    imageio.imwrite(filename, rgbimage8)"
   ]
  },
  {
   "cell_type": "code",
   "execution_count": 13,
   "id": "93f0e2e3",
   "metadata": {},
   "outputs": [
    {
     "name": "stderr",
     "output_type": "stream",
     "text": [
      "100%|██████████| 100/100 [00:04<00:00, 21.02it/s]\n"
     ]
    }
   ],
   "source": [
    "for j in trange(0,100, 1):\n",
    "\n",
    "    pose = poses[j, :3,:4]\n",
    "    rays_o, rays_d = get_rays(H, W, K, torch.Tensor(pose))  # (H, W, 3), (H, W, 3)\n",
    "\n",
    "    coords = torch.stack(torch.meshgrid(torch.linspace(0, H-1, H), torch.linspace(0, W-1, W)), -1)  # (H, W, 2)\n",
    "\n",
    "    coords = torch.reshape(coords, [-1,2])  # (H * W, 2)\n",
    "\n",
    "    chunk = 200\n",
    "    # N_rand = chunk\n",
    "    rgb_image = []\n",
    "    for k in range(int(coords.size(0)/chunk)):\n",
    "        select_coords = coords[k*chunk: (k+1)*chunk].long()  # (N_rand, 2)\n",
    "        rays_o_batch = rays_o[select_coords[:, 0], select_coords[:, 1]]  # (N_rand, 3)\n",
    "        rays_d_batch = rays_d[select_coords[:, 0], select_coords[:, 1]]  # (N_rand, 3)\n",
    "\n",
    "\n",
    "        t_vals = torch.linspace(0., 1., steps=N_samples)\n",
    "        z_vals = near * (1.-t_vals) + far * (t_vals)\n",
    "        \n",
    "        with torch.no_grad():\n",
    "            # apply the same changes as above!!!\n",
    "            ret = render_rays_discrete(ray_steps = z_vals,\n",
    "                                       rays_o = rays_o_batch,\n",
    "                                       rays_d = rays_d_batch,\n",
    "                                       N_samples = N_samples,\n",
    "                                       pt_cloud = pt_cloud, \n",
    "                                       rgb_val =rgb_val, \n",
    "                                       sigma_val = sigma_val) \n",
    "\n",
    "        rgb_map = ret\n",
    "        rgb_image.append(rgb_map)\n",
    "\n",
    "    rgb_image = torch.cat(rgb_image)\n",
    "\n",
    "    rgb_image = rearrange(rgb_image, '(w h) d -> w h d', w = W)\n",
    "\n",
    "\n",
    "\n",
    "    rgbimage8 = to8b(rgb_image.cpu().numpy())\n",
    "    filename = os.path.join(save_folder_train_img, '{:03d}.png'.format(j))\n",
    "    imageio.imwrite(filename, rgbimage8)"
   ]
  },
  {
   "cell_type": "markdown",
   "id": "20cc9068",
   "metadata": {},
   "source": [
    "# Extract 3D Mesh"
   ]
  },
  {
   "cell_type": "code",
   "execution_count": 14,
   "id": "bfbab903",
   "metadata": {},
   "outputs": [
    {
     "name": "stdout",
     "output_type": "stream",
     "text": [
      "(200, 200, 200)\n",
      "fraction occupied 0.0\n",
      "done (0, 3) (0, 3)\n",
      "[]\n"
     ]
    }
   ],
   "source": [
    "import mcubes \n",
    "import trimesh \n",
    "\n",
    "sigma_reshape = sigma_val.reshape(pts_res,pts_res,pts_res).cpu().numpy()\n",
    "print(sigma_reshape.shape)\n",
    "threshold = 10. # choose a reasonable threshold - \n",
    "print('fraction occupied', np.mean(sigma_reshape > threshold))\n",
    "vertices, triangles = mcubes.marching_cubes(sigma_reshape, threshold)\n",
    "print('done', vertices.shape, triangles.shape)\n",
    "print((vertices / pts_res - .5))\n",
    "mesh = trimesh.Trimesh(vertices / pts_res - .5, triangles)\n",
    "\n",
    "# specify path\n",
    "_ = mesh.export(os.path.join(save_folder_train_img, 'mesh.obj'.format(j)))"
   ]
  }
 ],
 "metadata": {
  "kernelspec": {
   "display_name": "Python 3 (ipykernel)",
   "language": "python",
   "name": "python3"
  },
  "language_info": {
   "codemirror_mode": {
    "name": "ipython",
    "version": 3
   },
   "file_extension": ".py",
   "mimetype": "text/x-python",
   "name": "python",
   "nbconvert_exporter": "python",
   "pygments_lexer": "ipython3",
   "version": "3.10.13"
  }
 },
 "nbformat": 4,
 "nbformat_minor": 5
}
